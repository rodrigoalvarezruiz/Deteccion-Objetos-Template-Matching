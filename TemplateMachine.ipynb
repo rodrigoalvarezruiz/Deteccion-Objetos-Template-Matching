{
 "cells": [
  {
   "attachments": {},
   "cell_type": "markdown",
   "metadata": {},
   "source": [
    "# Template Machine\n",
    "### Algoritmo sencillo de deteccion de objetos"
   ]
  },
  {
   "cell_type": "code",
   "execution_count": 1,
   "metadata": {},
   "outputs": [],
   "source": [
    "import numpy as np\n",
    "import cv2"
   ]
  },
  {
   "attachments": {},
   "cell_type": "markdown",
   "metadata": {},
   "source": [
    "#### Primero debemos capturar el objeto en tiempo real."
   ]
  },
  {
   "cell_type": "code",
   "execution_count": 2,
   "metadata": {},
   "outputs": [],
   "source": [
    "cap = cv2.VideoCapture(1)"
   ]
  },
  {
   "attachments": {},
   "cell_type": "markdown",
   "metadata": {},
   "source": [
    "### Capturamos en objeto que qeremos identificar"
   ]
  },
  {
   "cell_type": "code",
   "execution_count": 3,
   "metadata": {},
   "outputs": [],
   "source": [
    "while(True):\n",
    "    ret,frame = cap.read()             # Leemos el video\n",
    "    cv2.imshow('Objeto',frame)         # Mostramos el video en pantalla\n",
    "    if cv2.waitKey(1) == 27:           # Cuando oprimamos \"Escape\" rompe el video\n",
    "        break"
   ]
  },
  {
   "cell_type": "code",
   "execution_count": 4,
   "metadata": {},
   "outputs": [],
   "source": [
    "cv2.imwrite('objeto.jpg',frame)       # Guardamos la ultima caputra del video como imagen\n",
    "cap.release()                         # Cerramos\n",
    "cv2.destroyAllWindows()"
   ]
  },
  {
   "cell_type": "code",
   "execution_count": 12,
   "metadata": {},
   "outputs": [
    {
     "data": {
      "text/plain": [
       "(480, 640)"
      ]
     },
     "execution_count": 12,
     "metadata": {},
     "output_type": "execute_result"
    }
   ],
   "source": [
    "obj.shape"
   ]
  },
  {
   "attachments": {},
   "cell_type": "markdown",
   "metadata": {},
   "source": [
    "### Leemos la imagen del objeto que queremos identificar"
   ]
  },
  {
   "cell_type": "code",
   "execution_count": 5,
   "metadata": {},
   "outputs": [
    {
     "data": {
      "text/plain": [
       "27"
      ]
     },
     "execution_count": 5,
     "metadata": {},
     "output_type": "execute_result"
    }
   ],
   "source": [
    "obj = cv2.imread('objeto.jpg',0)      # Leemos la imagen\n",
    "recorte = obj[160:300, 230:380]       # Recortamos la imagen para que quede solo el objeto (fila:fila, colum:colum)\n",
    "cv2.imshow('objeto',recorte)          # Mostramos en pantalla el objeto a reconocer\n",
    "cv2.waitKey()"
   ]
  },
  {
   "attachments": {},
   "cell_type": "markdown",
   "metadata": {},
   "source": [
    "### Una vez tenemos el objeto definido tomamos la foto con el resto de objetos"
   ]
  },
  {
   "cell_type": "code",
   "execution_count": 21,
   "metadata": {},
   "outputs": [],
   "source": [
    "cap = cv2.VideoCapture(1)                 # Elegimos la camara con la que vamos a hacer la deteccion\n",
    "while(True):\n",
    "    ret2,frame2 = cap.read()              # Leemos el video\n",
    "    cv2.imshow('Deteccion',frame2)        # Mostramos el video en pantalla\n",
    "    if cv2.waitKey(1) == 27:              # Cuando oprimamos \"Escape\" rompe el video\n",
    "        break"
   ]
  },
  {
   "cell_type": "code",
   "execution_count": 22,
   "metadata": {},
   "outputs": [],
   "source": [
    "cv2.imwrite('Deteccion.jpg',frame2)       # Guardamos la ultima caputra del video como imagen\n",
    "cap.release()                             # Cerramos\n",
    "cv2.destroyAllWindows()"
   ]
  },
  {
   "attachments": {},
   "cell_type": "markdown",
   "metadata": {},
   "source": [
    "### Mostramos la imagen con todos los objetos"
   ]
  },
  {
   "cell_type": "code",
   "execution_count": 28,
   "metadata": {},
   "outputs": [
    {
     "data": {
      "text/plain": [
       "27"
      ]
     },
     "execution_count": 28,
     "metadata": {},
     "output_type": "execute_result"
    }
   ],
   "source": [
    "img = cv2.imread('Deteccion.jpg',3)\n",
    "gris = cv2.cvtColor(img, cv2.COLOR_BGR2GRAY)  # Pasamos la imagen a escala de grises\n",
    "cv2.imshow('Deteccion',img)\n",
    "cv2.waitKey()"
   ]
  },
  {
   "attachments": {},
   "cell_type": "markdown",
   "metadata": {},
   "source": [
    "### Empezamos el algoritmo"
   ]
  },
  {
   "cell_type": "code",
   "execution_count": 29,
   "metadata": {},
   "outputs": [
    {
     "data": {
      "text/plain": [
       "27"
      ]
     },
     "execution_count": 29,
     "metadata": {},
     "output_type": "execute_result"
    }
   ],
   "source": [
    "w, h = recorte.shape[::-1]                                           # Extraemos el ancho y el alto del recorte del objeto\n",
    "deteccion  = cv2.matchTemplate(gris, recorte, cv2.TM_CCOEFF_NORMED)  # Realizamos la deteccion por patrones\n",
    "umbral = 0.75                                                        # Asignamos un umbral para filtrar objetos parecidos\n",
    "ubi = np.where(deteccion >= umbral)                                  # La ubicacion de los objetos la vamos a guardar cuando supere el umbral\n",
    "for pt in zip (*ubi[::-1]):                                          # Creamos un for para dibujar todos los rectangulos\n",
    "    cv2.rectangle(img, pt, (pt[0]+w, pt[1]+h), (255,0,0), 1)         # Dibujamos los n rectangulos que hayamos identificado con el tamaño del recorte y de color\n",
    "\n",
    "cv2.imshow('Deteccion',img)\n",
    "cv2.waitKey()"
   ]
  },
  {
   "cell_type": "code",
   "execution_count": 30,
   "metadata": {},
   "outputs": [],
   "source": [
    "cv2.destroyAllWindows() #cerramos la ventana sin romper el codigo (IPORTANTE APLICAR AL FINALIZAR LA PRUEBA)"
   ]
  }
 ],
 "metadata": {
  "kernelspec": {
   "display_name": "Python 3",
   "language": "python",
   "name": "python3"
  },
  "language_info": {
   "codemirror_mode": {
    "name": "ipython",
    "version": 3
   },
   "file_extension": ".py",
   "mimetype": "text/x-python",
   "name": "python",
   "nbconvert_exporter": "python",
   "pygments_lexer": "ipython3",
   "version": "3.10.4"
  },
  "orig_nbformat": 4,
  "vscode": {
   "interpreter": {
    "hash": "6e3977c52f5249dbc2a33b897faad1e0916758085298811edbd14ed6ad707d81"
   }
  }
 },
 "nbformat": 4,
 "nbformat_minor": 2
}
